{
 "cells": [
  {
   "cell_type": "markdown",
   "metadata": {},
   "source": [
    "This exercise will require you to pull some data from the Qunadl API. Qaundl is currently the most widely used aggregator of financial market data."
   ]
  },
  {
   "cell_type": "markdown",
   "metadata": {},
   "source": [
    "As a first step, you will need to register a free account on the http://www.quandl.com website."
   ]
  },
  {
   "cell_type": "markdown",
   "metadata": {},
   "source": [
    "After you register, you will be provided with a unique API key, that you should store:"
   ]
  },
  {
   "cell_type": "code",
   "execution_count": 212,
   "metadata": {},
   "outputs": [],
   "source": [
    "# Store the API key as a string - according to PEP8, constants are always named in all upper case\n"
   ]
  },
  {
   "cell_type": "markdown",
   "metadata": {},
   "source": [
    "Qaundl has a large number of data sources, but, unfortunately, most of them require a Premium subscription. Still, there are also a good number of free datasets."
   ]
  },
  {
   "cell_type": "markdown",
   "metadata": {},
   "source": [
    "For this mini project, we will focus on equities data from the Frankfurt Stock Exhange (FSE), which is available for free. We'll try and analyze the stock prices of a company called Carl Zeiss Meditec, which manufactures tools for eye examinations, as well as medical lasers for laser eye surgery: https://www.zeiss.com/meditec/int/home.html. The company is listed under the stock ticker AFX_X."
   ]
  },
  {
   "cell_type": "markdown",
   "metadata": {},
   "source": [
    "You can find the detailed Quandl API instructions here: https://docs.quandl.com/docs/time-series"
   ]
  },
  {
   "cell_type": "markdown",
   "metadata": {},
   "source": [
    "While there is a dedicated Python package for connecting to the Quandl API, we would prefer that you use the *requests* package, which can be easily downloaded using *pip* or *conda*. You can find the documentation for the package here: http://docs.python-requests.org/en/master/ "
   ]
  },
  {
   "cell_type": "markdown",
   "metadata": {},
   "source": [
    "Finally, apart from the *requests* package, you are encouraged to not use any third party Python packages, such as *pandas*, and instead focus on what's available in the Python Standard Library (the *collections* module might come in handy: https://pymotw.com/3/collections/ ).\n",
    "Also, since you won't have access to DataFrames, you are encouraged to us Python's native data structures - preferably dictionaries, though some questions can also be answered using lists.\n",
    "You can read more on these data structures here: https://docs.python.org/3/tutorial/datastructures.html"
   ]
  },
  {
   "cell_type": "markdown",
   "metadata": {},
   "source": [
    "Keep in mind that the JSON responses you will be getting from the API map almost one-to-one to Python's dictionaries. Unfortunately, they can be very nested, so make sure you read up on indexing dictionaries in the documentation provided above."
   ]
  },
  {
   "cell_type": "code",
   "execution_count": 200,
   "metadata": {},
   "outputs": [],
   "source": [
    "# First, import the relevant modules\n",
    "import requests\n"
   ]
  },
  {
   "cell_type": "code",
   "execution_count": 213,
   "metadata": {},
   "outputs": [],
   "source": [
    "# Now, call the Quandl API and pull out a small sample of the data (only one day) to get a glimpse\n",
    "# into the JSON structure that will be returned\n",
    "#quandl = requests.get('https://www.quandl.com/api/v3/datasets/FSE/AFX_X.json?api_key=&start_date=2017-01-01&end_date=2017-12-31&order=asc')"
   ]
  },
  {
   "cell_type": "code",
   "execution_count": 202,
   "metadata": {},
   "outputs": [],
   "source": [
    "# Inspect the JSON structure of the object you created, and take note of how nested it is,\n",
    "# as well as the overall structure\n",
    "dct = dict(quandl.json())"
   ]
  },
  {
   "cell_type": "markdown",
   "metadata": {},
   "source": [
    "These are your tasks for this mini project:\n",
    "\n",
    "1. Collect data from the Franfurt Stock Exchange, for the ticker AFX_X, for the whole year 2017 (keep in mind that the date format is YYYY-MM-DD).\n",
    "2. Convert the returned JSON object into a Python dictionary.\n",
    "3. Calculate what the highest and lowest opening prices were for the stock in this period.\n",
    "4. What was the largest change in any one day (based on High and Low price)?\n",
    "5. What was the largest change between any two days (based on Closing Price)?\n",
    "6. What was the average daily trading volume during this year?\n",
    "7. (Optional) What was the median trading volume during this year. (Note: you may need to implement your own function for calculating the median.)"
   ]
  },
  {
   "cell_type": "markdown",
   "metadata": {
    "collapsed": true
   },
   "source": [
    "### Convert the data into a more manageable form"
   ]
  },
  {
   "cell_type": "markdown",
   "metadata": {},
   "source": [
    "I could iterate through the price_data which is a list of list where each sublist contains the properties of price for a day in the year. However, I am going to try a different approach that I don't immediately know how to execute just for fun (super unnecessary, but fun). I going to create a list of namedtuples where each tuple's name is the date for example, d20170101, and the attributes are the specific property. The point of this is so that I can look up values without using numerics in any way.\n",
    "\n",
    "- Convert the dates to specified format and use them as the name of the namedtuple\n",
    "- Create separate namedtuples for each date and append them to the list. \n",
    "\n",
    "*Using a list was not a good idea because I still have to find dates using the index. Instead I am going to use a dict where the keys are the dates and the values are the namedTuple.*"
   ]
  },
  {
   "cell_type": "code",
   "execution_count": 203,
   "metadata": {},
   "outputs": [],
   "source": [
    "dct['dataset']['column_names'];"
   ]
  },
  {
   "cell_type": "code",
   "execution_count": 204,
   "metadata": {},
   "outputs": [],
   "source": [
    "price_data = dct['dataset']['data']"
   ]
  },
  {
   "cell_type": "code",
   "execution_count": 205,
   "metadata": {},
   "outputs": [],
   "source": [
    "from collections import namedtuple\n",
    "named_price = {}\n",
    "\n",
    "for day_data in price_data:\n",
    "    date_str = 'd'+ ''.join(char for char in day_data[0] if not char=='-')   # Create the string\n",
    "    \n",
    "    DateTup = namedtuple('DateTup',[\n",
    "            'date', \n",
    "            'open',\n",
    "            'high',\n",
    "            'low',\n",
    "            'close',\n",
    "            'volume'\n",
    "        ])\n",
    "    \n",
    "    date_namedtup = DateTup(day_data[0],day_data[1],day_data[2],day_data[3],day_data[4],day_data[6])\n",
    "    named_price[date_str] = date_namedtup"
   ]
  },
  {
   "cell_type": "markdown",
   "metadata": {},
   "source": [
    "#### Calculate the highest and lowest prices for the year"
   ]
  },
  {
   "cell_type": "code",
   "execution_count": 206,
   "metadata": {},
   "outputs": [
    {
     "name": "stdout",
     "output_type": "stream",
     "text": [
      "The high of 53.11 occured on 2017-12-14\n",
      "The low of 33.62 occured on 2017-01-23\n"
     ]
    }
   ],
   "source": [
    "high = 0\n",
    "low = 10000\n",
    "highday = ''\n",
    "lowday = ''\n",
    "\n",
    "for day_data in named_price.values():\n",
    "    if isinstance(day_data, int):\n",
    "        continue\n",
    "    \n",
    "    if day_data.open is None:\n",
    "        continue\n",
    "   \n",
    "    if day_data.open >= high:\n",
    "        high = day_data.open\n",
    "        highday = day_data.date\n",
    "    \n",
    "    if day_data.open <= low:\n",
    "        low = day_data.low\n",
    "        lowday = day_data.date\n",
    "\n",
    "print(f'The high of {high} occured on {highday}')\n",
    "print(f'The low of {low} occured on {lowday}')"
   ]
  },
  {
   "cell_type": "markdown",
   "metadata": {},
   "source": [
    "#### Calculate the largest change in a single day"
   ]
  },
  {
   "cell_type": "code",
   "execution_count": 207,
   "metadata": {},
   "outputs": [
    {
     "name": "stdout",
     "output_type": "stream",
     "text": [
      "The greatest daily change was 2.81 and occured on 2017-05-11\n"
     ]
    }
   ],
   "source": [
    "change = 0\n",
    "changeday = ''\n",
    "\n",
    "for day_data in named_price.values():\n",
    "    if isinstance(day_data, int):\n",
    "        continue\n",
    "    \n",
    "    if (day_data.high is None) or (day_data.low is None):\n",
    "        continue\n",
    "    \n",
    "    temp = day_data.high - day_data.low\n",
    "    \n",
    "    if temp >= change:\n",
    "        change = temp\n",
    "        changeday = day_data.date\n",
    "\n",
    "print(f'The greatest daily change was {change:.2f} and occured on {changeday}')"
   ]
  },
  {
   "cell_type": "markdown",
   "metadata": {},
   "source": [
    "#### What was the average daily trading volume during this year\n"
   ]
  },
  {
   "cell_type": "code",
   "execution_count": 208,
   "metadata": {},
   "outputs": [],
   "source": [
    "vol_total = 0\n",
    "\n",
    "for day_data in named_price.values():\n",
    "    if isinstance(day_data, int):\n",
    "        continue\n",
    "        \n",
    "    if (day_data.volume is None):\n",
    "        continue\n",
    "    \n",
    "    vol_total += day_data.volume\n",
    "\n",
    "average_vol = vol_total / len(named_price)    "
   ]
  },
  {
   "cell_type": "code",
   "execution_count": 209,
   "metadata": {},
   "outputs": [
    {
     "name": "stdout",
     "output_type": "stream",
     "text": [
      "The average trading volume for the day was 89124.34\n"
     ]
    }
   ],
   "source": [
    "print(f'The average trading volume for the day was {average_vol:.2f}')"
   ]
  },
  {
   "cell_type": "markdown",
   "metadata": {},
   "source": [
    "#### What was the largest change between any two days (based on Closing Price)?\n"
   ]
  },
  {
   "cell_type": "code",
   "execution_count": 210,
   "metadata": {},
   "outputs": [
    {
     "name": "stdout",
     "output_type": "stream",
     "text": [
      "The greatest change was 2.56 and happened between 2017-08-08 and 2017-08-09\n"
     ]
    }
   ],
   "source": [
    "dates = sorted(named_price.keys())\n",
    "change = 0\n",
    "today_date_final = ''\n",
    "tomorrow_date_final = ''\n",
    "\n",
    "for idx, key in enumerate(dates[:-1]): # We need access to future dates so enumerate was used\n",
    "    today_date = dates[idx]\n",
    "    tomorrow_date = dates[idx+1]\n",
    "    \n",
    "    if isinstance(named_price[today_date], int) or isinstance(named_price[tomorrow_date], int):\n",
    "        continue\n",
    "    \n",
    "    temp = abs(named_price[tomorrow_date].close - named_price[today_date].close)\n",
    "    \n",
    "    if temp >= change:\n",
    "        change = temp\n",
    "        today_date_final = today_date\n",
    "        tomorrow_date_final = tomorrow_date\n",
    "\n",
    "print(f'The greatest change was {change:.2f} and happened between {named_price[today_date_final].date} and {named_price[tomorrow_date_final].date}')"
   ]
  },
  {
   "cell_type": "markdown",
   "metadata": {},
   "source": [
    "#### What was the median trading volume during this year."
   ]
  },
  {
   "cell_type": "code",
   "execution_count": 211,
   "metadata": {},
   "outputs": [
    {
     "name": "stdout",
     "output_type": "stream",
     "text": [
      "The median volume for the year was 76286.0\n"
     ]
    }
   ],
   "source": [
    "volume_lst = []\n",
    "\n",
    "for day_data in named_price.values():\n",
    "    if isinstance(day_data, int):\n",
    "        continue\n",
    "        \n",
    "    if (day_data.volume is None):\n",
    "        continue\n",
    "        \n",
    "    volume_lst.append(day_data.volume)\n",
    "\n",
    "volume_lst = sorted(volume_lst)\n",
    "middle = len(volume_lst) // 2\n",
    "median = (volume_lst[middle] + volume_lst[~middle]) / 2\n",
    "# The [~middle] traverses the list starting from the back so the last value has an index of 0. lst=[1,2,3,4] | lst[~1] = 3\n",
    "# This method takes care of both even and odd lengths. \n",
    "\n",
    "print(f'The median volume for the year was {median}')"
   ]
  },
  {
   "cell_type": "code",
   "execution_count": null,
   "metadata": {},
   "outputs": [],
   "source": []
  }
 ],
 "metadata": {
  "kernelspec": {
   "display_name": "Python 3",
   "language": "python",
   "name": "python3"
  },
  "language_info": {
   "codemirror_mode": {
    "name": "ipython",
    "version": 3
   },
   "file_extension": ".py",
   "mimetype": "text/x-python",
   "name": "python",
   "nbconvert_exporter": "python",
   "pygments_lexer": "ipython3",
   "version": "3.6.5"
  }
 },
 "nbformat": 4,
 "nbformat_minor": 2
}
